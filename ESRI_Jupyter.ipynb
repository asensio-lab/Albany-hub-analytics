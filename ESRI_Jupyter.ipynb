{
 "cells": [
  {
   "cell_type": "markdown",
   "metadata": {},
   "source": [
    "## About\n",
    "The code here takes data on treated and untreated units, houses in this case, and performs propensity score matching on covariates that likely influence a unit's probability of being in the treated group. After matching and verifying adequate bias reduction, a fixed effects regression is performed to determine the average treatment effect (ATE) for the treated units compared to the matched control units.\n",
    "\n",
    "### Note\n",
    "Two files are needed to utilize this code. The first file is a cross-sectional file that contains information and covariates on the units of analysis before the treatment period. This file is used for the propensity score matching. The second file needed is a panel file that contains the variables and covariates of interest in the pre- and post-treatment period for the units of analysis. After matching, the appropriate treated and matched controls are selected from the panel set for analysis."
   ]
  },
  {
   "cell_type": "markdown",
   "metadata": {},
   "source": [
    "## Package Installation and Import"
   ]
  },
  {
   "cell_type": "code",
   "execution_count": 2,
   "metadata": {
    "colab": {},
    "colab_type": "code",
    "id": "Q5JDMe_zyqYi"
   },
   "outputs": [],
   "source": [
    "!pip -q install pymatch\n",
    "!pip -q install linearmodels\n",
    "\n",
    "import warnings\n",
    "warnings.filterwarnings('ignore')\n",
    "from pymatch.Matcher import Matcher\n",
    "import pandas as pd\n",
    "import numpy as np\n",
    "import statistics as stat\n",
    "import math\n",
    "import pymatch.functions as uf\n",
    "from linearmodels import PanelOLS\n",
    "\n",
    "%matplotlib inline\n",
    "import matplotlib.pyplot as plt"
   ]
  },
  {
   "cell_type": "markdown",
   "metadata": {},
   "source": [
    "## Dataframe and Variable Selection"
   ]
  },
  {
   "cell_type": "code",
   "execution_count": 3,
   "metadata": {
    "colab": {},
    "colab_type": "code",
    "id": "QJ-srBdTyqYq"
   },
   "outputs": [],
   "source": [
    "#data location\n",
    "matchPath = \"/Users/Kira/Documents/ESRI_Research_Project/OverallStats.csv\"\n",
    "panelPath = \"/Users/Kira/Dropbox/ResidentialElectricPanelData2.csv\"\n",
    "\n",
    "#reads in data from a csv file to create a DataFrame\n",
    "matchDF = pd.read_csv(matchPath)\n",
    "matchDF.columns = matchDF.columns.str.replace(' ', '')\n",
    "\n",
    "panelDF = pd.read_csv(panelPath)\n"
   ]
  },
  {
   "cell_type": "code",
   "execution_count": 4,
   "metadata": {
    "colab": {},
    "colab_type": "code",
    "id": "pysWord4yqYu"
   },
   "outputs": [],
   "source": [
    "#fields that influence the matching formula\n",
    "fields = \\\n",
    "[\n",
    "    \"Baseline\",\n",
    "    \"Size\",\n",
    "    \"Beds\",\n",
    "    \"Baths\",\n",
    "    \"YearBuilt\",\n",
    "    \"Market\",\n",
    "    \"Group\",\n",
    "    \"Assessment\"\n",
    " ]\n",
    "\n",
    "#fields we want to pull out from the matched data to compare\n",
    "fields2 = \\\n",
    "[\n",
    "    \"Project\",\n",
    "    \"Program\",\n",
    "    \"AddressID\",\n",
    "    \"Index\",\n",
    "    \"Premise\"\n",
    "]\n",
    "\n",
    "#fields for panel regressions\n",
    "dependent = \\\n",
    "[\n",
    "    \"NormConsumption\"\n",
    "]\n",
    "\n",
    "independent = \\\n",
    "[\n",
    "    \"Post\",\n",
    "    \"Post_Group\",\n",
    "    \"Year_2005\",\n",
    "    \"Year_2006\",\n",
    "    \"Year_2007\",\n",
    "    \"Year_2008\",\n",
    "    \"Year_2009\",\n",
    "    \"Year_2010\",\n",
    "    \"Year_2011\",\n",
    "    \"Year_2012\",\n",
    "    \"Year_2013\",\n",
    "    \"Year_2014\",\n",
    "    \"Year_2015\",\n",
    "    \"Year_2016\",\n",
    "    \"Year_2017\",\n",
    "    \"Year_2018\",\n",
    "    \"Year_2019\"\n",
    "]"
   ]
  },
  {
   "cell_type": "markdown",
   "metadata": {},
   "source": [
    "## Matching"
   ]
  },
  {
   "cell_type": "code",
   "execution_count": 5,
   "metadata": {
    "colab": {},
    "colab_type": "code",
    "id": "YipaM_J1yqYy",
    "outputId": "3c3b6d99-ab28-43f0-cb40-6283071cb269",
    "scrolled": false
   },
   "outputs": [
    {
     "name": "stdout",
     "output_type": "stream",
     "text": [
      "Formula:\n",
      "Group ~ Baseline+Size+Beds+Baths+YearBuilt+Market+Assessment\n",
      "n majority: 19815\n",
      "n minority: 307\n",
      "Fitting Models on Balanced Samples: 100\\100\n",
      "Average Accuracy: 69.19%\n"
     ]
    }
   ],
   "source": [
    "#covariate data \n",
    "cov_data = matchDF[fields]\n",
    "#data we will use to merge later\n",
    "merge_data = matchDF[fields2]\n",
    "merge_data.set_index(\"Index\",inplace=True)\n",
    "\n",
    "#separates data and assigns probabilities to make desired variable a binary treatment indicator\n",
    "test = cov_data[cov_data.Group == 1]\n",
    "control = cov_data[cov_data.Group == 0]\n",
    "#in the case variable isn't already 1s and 0s, this makes the variable a binary treatment indicator\n",
    "test['Group'] = 1\n",
    "control['Group'] = 0\n",
    "\n",
    "\n",
    "#assigns propensity scores \n",
    "#prints formula used to fit logisitc regression models and the number of records in the majority/minority class\n",
    "m = Matcher(test, control, yvar = 'Group', exclude=[]) \n",
    "#random number generator to make code repeatable\n",
    "np.random.seed(20170925)\n",
    "#setting (balance=True) ensures you are sampling from the majority group; automatically matches with replacement\n",
    "m.fit_scores(balance=True, nmodels = 100) \n",
    "#prints accuracy score (R^2 coefficient of determination) which shows how well observed outcomes are replicated by model\n",
    "m.predict_scores()\n",
    "\n",
    "#matches data with replacement and puts the matches into a dataframe\n",
    "#also exculdes data from dataset if there are no suitable matches\n",
    "m.match(method=\"min\", nmatches=2, threshold=0.0001) #|score_x - score_y| >= threshold\n",
    "m.assign_weight_vector()"
   ]
  },
  {
   "cell_type": "code",
   "execution_count": 17,
   "metadata": {
    "colab": {},
    "colab_type": "code",
    "id": "A9hHUhgEyqY3",
    "outputId": "9396d36a-f0c3-40be-a91e-c1ed98989c7c"
   },
   "outputs": [
    {
     "data": {
      "text/plain": [
       "Text(0.5, 1.0, 'PSM Bias Reduction')"
      ]
     },
     "execution_count": 17,
     "metadata": {},
     "output_type": "execute_result"
    },
    {
     "data": {
      "image/png": "[encoded data removed]",
      "text/plain": [
       "<Figure size 1120x800 with 1 Axes>"
      ]
     },
     "metadata": {
      "needs_background": "light"
     },
     "output_type": "display_data"
    }
   ],
   "source": [
    "# Prepare Data\n",
    "test_results = []\n",
    "test_results_after = []\n",
    "y = []\n",
    "for col in m.matched_data.columns:\n",
    "    if uf.is_continuous(col,m.X) and col not in m.exclude:\n",
    "        # organize data\n",
    "        trb, cob = m.test[col], m.control[col]\n",
    "        tra = m.matched_data[m.matched_data[m.yvar]==True][col]\n",
    "        coa = m.matched_data[m.matched_data[m.yvar]==False][col]\n",
    "        # before/after stats\n",
    "        #std_diff_med_before, std_diff_mean_before = uf.std_diff(trb, cob)\n",
    "       # std_diff_med_after, std_diff_mean_after = uf.std_diff(tra, coa)\n",
    "        std_diff_mean_before = (stat.mean(trb) - stat.mean(cob))/((math.sqrt(stat.variance(trb)+stat.variance(cob)))/2)\n",
    "        std_diff_mean_after = (stat.mean(tra) - stat.mean(coa))/((math.sqrt(stat.variance(tra)+stat.variance(coa)))/2)\n",
    "        test_results.append(std_diff_mean_before)\n",
    "        test_results_after.append(std_diff_mean_after)\n",
    "        y.append(col)\n",
    "    \n",
    "\n",
    "# plotting\n",
    "plt.figure(figsize=(14,10), dpi= 80)\n",
    "plt.hlines(y=y, xmin=0, xmax=[test_results], color=[m.control_color], alpha=0.4,linewidth=5)\n",
    "plt.hlines(y=y, xmin=0, xmax=[test_results_after], color=[m.test_color],alpha=0.4,linewidth=5)\n",
    "plt.scatter(test_results, y, s=120, color = m.control_color, label='Before Matching')\n",
    "plt.scatter(test_results_after, y, s=120, color = m.test_color, label='After Matching')\n",
    "plt.legend(prop={'size': 12})\n",
    "plt.xlabel('Standardized Percent Bias')\n",
    "plt.axvline(x=0)\n",
    "plt.title('PSM Bias Reduction')"
   ]
  },
  {
   "cell_type": "markdown",
   "metadata": {},
   "source": [
    "## Fixed Effect Panel Regression"
   ]
  },
  {
   "cell_type": "code",
   "execution_count": 7,
   "metadata": {
    "colab": {},
    "colab_type": "code",
    "id": "NdMcCaQtyqY8"
   },
   "outputs": [],
   "source": [
    "#creates csv file for desired data\n",
    "matches_table = (m.matched_data.sort_values(\"match_id\"))\n",
    "matches_table['ID'] = list(range(1,matches_table.shape[0]+1))\n",
    "#matches_table.set_index('ID',inplace=True)\n",
    "matches_table.record_id = matches_table.record_id + 1\n",
    "matches_table.rename({'record_id':'Index'},axis=1,inplace=True)\n",
    "new_table = pd.merge(merge_data,matches_table,on='Index',how='right')\n",
    "new_table.drop(new_table.columns[new_table.columns.str.contains('unnamed',case = False)],axis = 1, inplace = True)\n",
    "#matches_table.to_csv(r\"/Users/Kira/Documents/ESRI_Research_Project/Matches.csv\",header=True,index=True)\n",
    "#new_table.to_csv(r\"C:/Users/Anidel/Dropbox (GaTech)/Albany Analysis/New_Table2.csv\",header=True,index=False)\n",
    "\n",
    "#merges matched data with panel data\n",
    "mergeDF = pd.merge(panelDF,new_table,on='Premise',how='right')\n",
    "mergeDF.drop(mergeDF.columns[mergeDF.columns.str.contains('unnamed',case = False)],axis = 1, inplace = True)\n",
    "mergeDF = mergeDF.drop_duplicates(subset=['ID', 'TimePeriod'])\n",
    "#mergeDF.to_csv(r\"C:/Users/Anidel/Dropbox (GaTech)/Albany Analysis/New_Table.csv\",header=True, index = False)\n"
   ]
  },
  {
   "cell_type": "code",
   "execution_count": 8,
   "metadata": {},
   "outputs": [
    {
     "name": "stdout",
     "output_type": "stream",
     "text": [
      "                          PanelOLS Estimation Summary                           \n",
      "================================================================================\n",
      "Dep. Variable:        NormConsumption   R-squared:                        0.0206\n",
      "Estimator:                   PanelOLS   R-squared (Between):             -0.0780\n",
      "No. Observations:              163488   R-squared (Within):               0.0206\n",
      "Date:                Tue, Jan 28 2020   R-squared (Overall):             -0.0578\n",
      "Time:                        11:11:52   Log-likelihood                -1.253e+05\n",
      "Cov. Estimator:             Clustered                                           \n",
      "                                        F-statistic:                      200.77\n",
      "Entities:                         921   P-value                           0.0000\n",
      "Avg Obs:                       177.51   Distribution:               F(17,162550)\n",
      "Min Obs:                       53.000                                           \n",
      "Max Obs:                       186.00   F-statistic (robust):             2.8942\n",
      "                                        P-value                           0.0001\n",
      "Time periods:                     186   Distribution:               F(17,162550)\n",
      "Avg Obs:                       878.97                                           \n",
      "Min Obs:                       839.00                                           \n",
      "Max Obs:                       913.00                                           \n",
      "                                                                                \n",
      "                             Parameter Estimates                              \n",
      "==============================================================================\n",
      "            Parameter  Std. Err.     T-stat    P-value    Lower CI    Upper CI\n",
      "------------------------------------------------------------------------------\n",
      "Post          -0.0261     0.0180    -1.4485     0.1475     -0.0613      0.0092\n",
      "Post_Group    -0.0372     0.0227    -1.6411     0.1008     -0.0816      0.0072\n",
      "Year_2005      0.0307     0.0815     0.3767     0.7064     -0.1291      0.1905\n",
      "Year_2006      0.0532     0.0798     0.6661     0.5054     -0.1033      0.2096\n",
      "Year_2007      0.0519     0.0843     0.6149     0.5386     -0.1134      0.2171\n",
      "Year_2008      0.0251     0.0770     0.3257     0.7446     -0.1259      0.1760\n",
      "Year_2009     -0.0018     0.0747    -0.0244     0.9805     -0.1482      0.1446\n",
      "Year_2010      0.0968     0.0890     1.0887     0.2763     -0.0775      0.2712\n",
      "Year_2011      0.0473     0.0890     0.5318     0.5949     -0.1271      0.2217\n",
      "Year_2012     -0.0607     0.0738    -0.8219     0.4112     -0.2054      0.0840\n",
      "Year_2013     -0.0763     0.0694    -1.1000     0.2714     -0.2124      0.0597\n",
      "Year_2014     -0.0295     0.0768    -0.3847     0.7005     -0.1801      0.1210\n",
      "Year_2015     -0.0735     0.0794    -0.9262     0.3544     -0.2292      0.0821\n",
      "Year_2016     -0.0873     0.0785    -1.1115     0.2664     -0.2412      0.0666\n",
      "Year_2017     -0.1215     0.0712    -1.7069     0.0878     -0.2610      0.0180\n",
      "Year_2018     -0.0906     0.0810    -1.1181     0.2635     -0.2493      0.0682\n",
      "Year_2019     -0.1084     0.0887    -1.2216     0.2219     -0.2823      0.0655\n",
      "==============================================================================\n",
      "\n",
      "F-test for Poolability: 73.799\n",
      "P-value: 0.0000\n",
      "Distribution: F(920,162550)\n",
      "\n",
      "Included effects: Entity\n"
     ]
    }
   ],
   "source": [
    "#Specifies individual entity and time variables\n",
    "mergeDF.set_index(['ID',\"TimePeriod\"],inplace=True)\n",
    "\n",
    "mergeDF['Post_Group'] = mergeDF['Post'] * mergeDF['Group']\n",
    "\n",
    "#PanelOLS model\n",
    "model = PanelOLS(mergeDF[dependent],mergeDF[independent],entity_effects=True,time_effects=False)\n",
    "fit = model.fit(cov_type = 'clustered', cluster_entity=True,cluster_time=True)\n",
    "\n",
    "print(fit)"
   ]
  }
 ],
 "metadata": {
  "colab": {
   "name": "ESRI_Jupyter.ipynb",
   "provenance": []
  },
  "kernelspec": {
   "display_name": "Python 3",
   "language": "python",
   "name": "python3"
  },
  "language_info": {
   "codemirror_mode": {
    "name": "ipython",
    "version": 3
   },
   "file_extension": ".py",
   "mimetype": "text/x-python",
   "name": "python",
   "nbconvert_exporter": "python",
   "pygments_lexer": "ipython3",
   "version": "3.7.3"
  }
 },
 "nbformat": 4,
 "nbformat_minor": 1
}
