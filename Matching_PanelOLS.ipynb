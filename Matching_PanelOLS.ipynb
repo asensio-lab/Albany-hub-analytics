{
 "cells": [
  {
   "cell_type": "markdown",
   "metadata": {},
   "source": [
    "## About\n",
    "The code here takes data on treated and untreated units, houses in this case, and performs propensity score matching on covariates that likely influence a unit's probability of being in the treated group. After matching and verifying adequate bias reduction, a fixed effects regression is performed to determine the average treatment effect (ATE) for the treated units compared to the matched control units.\n",
    "\n",
    "### Note\n",
    "Two files are needed to utilize this code. The first file is a cross-sectional file that contains information and covariates on the units of analysis before the treatment period. This file is used for the propensity score matching. The second file needed is a panel file that contains the variables and covariates of interest in the pre- and post-treatment period for the units of analysis. After matching, the appropriate treated and matched controls are selected from the panel set for analysis."
   ]
  },
  {
   "cell_type": "markdown",
   "metadata": {},
   "source": [
    "## Package Installation and Import"
   ]
  },
  {
   "cell_type": "code",
   "execution_count": 1,
   "metadata": {
    "colab": {},
    "colab_type": "code",
    "id": "Q5JDMe_zyqYi"
   },
   "outputs": [],
   "source": [
    "!pip -q install pymatch\n",
    "!pip -q install linearmodels\n",
    "\n",
    "import warnings\n",
    "warnings.filterwarnings('ignore')\n",
    "from pymatch.Matcher import Matcher\n",
    "import pandas as pd\n",
    "import numpy as np\n",
    "import statistics as stat\n",
    "import math\n",
    "import pymatch.functions as uf\n",
    "from linearmodels import PanelOLS\n",
    "\n",
    "%matplotlib inline\n",
    "import matplotlib.pyplot as plt"
   ]
  },
  {
   "cell_type": "markdown",
   "metadata": {},
   "source": [
    "## Dataframe and Variable Selection"
   ]
  },
  {
   "cell_type": "code",
   "execution_count": 3,
   "metadata": {
    "colab": {},
    "colab_type": "code",
    "id": "QJ-srBdTyqYq"
   },
   "outputs": [],
   "source": [
    "#data location\n",
    "matchPath = \"C:/Users/Anidel93/Dropbox (GaTech)/Albany Analysis/OverallStats.csv\"\n",
    "panelPath = \"C:/Users/Anidel93/Dropbox (GaTech)/Albany Analysis/ResidentialElectricPanelData2.csv\"\n",
    "\n",
    "#reads in data from a csv file to create a DataFrame\n",
    "matchDF = pd.read_csv(matchPath)\n",
    "matchDF.columns = matchDF.columns.str.replace(' ', '')\n",
    "\n",
    "panelDF = pd.read_csv(panelPath)\n"
   ]
  },
  {
   "cell_type": "code",
   "execution_count": 4,
   "metadata": {
    "colab": {},
    "colab_type": "code",
    "id": "pysWord4yqYu"
   },
   "outputs": [],
   "source": [
    "#fields that influence the matching formula\n",
    "fields = \\\n",
    "[\n",
    "    \"Baseline\",\n",
    "    \"Size\",\n",
    "    \"Beds\",\n",
    "    \"Baths\",\n",
    "    \"YearBuilt\",\n",
    "    \"Market\",\n",
    "    \"Group\",\n",
    "    \"Assessment\"\n",
    " ]\n",
    "\n",
    "#fields we want to pull out from the matched data to compare\n",
    "fields2 = \\\n",
    "[\n",
    "    \"Project\",\n",
    "    \"Program\",\n",
    "    \"AddressID\",\n",
    "    \"Index\",\n",
    "    \"Premise\"\n",
    "]\n",
    "\n",
    "#fields for panel regressions\n",
    "dependent = \\\n",
    "[\n",
    "    \"NormConsumption\"\n",
    "]\n",
    "\n",
    "independent = \\\n",
    "[\n",
    "    \"Post\",\n",
    "    \"Post_Group\",\n",
    "    \"Year_2005\",\n",
    "    \"Year_2006\",\n",
    "    \"Year_2007\",\n",
    "    \"Year_2008\",\n",
    "    \"Year_2009\",\n",
    "    \"Year_2010\",\n",
    "    \"Year_2011\",\n",
    "    \"Year_2012\",\n",
    "    \"Year_2013\",\n",
    "    \"Year_2014\",\n",
    "    \"Year_2015\",\n",
    "    \"Year_2016\",\n",
    "    \"Year_2017\",\n",
    "    \"Year_2018\",\n",
    "    \"Year_2019\"\n",
    "]"
   ]
  },
  {
   "cell_type": "markdown",
   "metadata": {},
   "source": [
    "## Matching"
   ]
  },
  {
   "cell_type": "code",
   "execution_count": 5,
   "metadata": {
    "colab": {},
    "colab_type": "code",
    "id": "YipaM_J1yqYy",
    "outputId": "3c3b6d99-ab28-43f0-cb40-6283071cb269",
    "scrolled": false
   },
   "outputs": [
    {
     "name": "stdout",
     "output_type": "stream",
     "text": [
      "Formula:\n",
      "Group ~ Baseline+Size+Beds+Baths+YearBuilt+Market+Assessment\n",
      "n majority: 19815\n",
      "n minority: 307\n",
      "Fitting Models on Balanced Samples: 100\\100\n",
      "Average Accuracy: 69.15%\n"
     ]
    }
   ],
   "source": [
    "#covariate data \n",
    "cov_data = matchDF[fields]\n",
    "#data we will use to merge later\n",
    "merge_data = matchDF[fields2]\n",
    "merge_data.set_index(\"Index\",inplace=True)\n",
    "\n",
    "#separates data and assigns probabilities to make desired variable a binary treatment indicator\n",
    "test = cov_data[cov_data.Group == 1]\n",
    "control = cov_data[cov_data.Group == 0]\n",
    "#in the case variable isn't already 1s and 0s, this makes the variable a binary treatment indicator\n",
    "test['Group'] = 1\n",
    "control['Group'] = 0\n",
    "\n",
    "\n",
    "#assigns and plots propensity scores \n",
    "#prints formula used to fit logisitc regression models and the number of records in the majority/minority class\n",
    "m = Matcher(test, control, yvar = 'Group', exclude=[]) \n",
    "#random number generator to make code repeatable\n",
    "np.random.seed(20170925)\n",
    "#setting (balance=True) ensures you are sampling from the majority group; automatically matches with replacement\n",
    "m.fit_scores(balance=True, nmodels = 100) \n",
    "#prints accuracy score (R^2 coefficient of determination) which shows how well observed outcomes are replicated by model\n",
    "m.predict_scores()\n",
    "#m.plot_scores()\n",
    "\n",
    "#matches data with replacement and puts the matches into a dataframe\n",
    "#also exculdes data from dataset if there are no suitable matches\n",
    "m.match(method=\"min\", nmatches=2, threshold=0.0001) #|score_x - score_y| >= threshold\n",
    "m.assign_weight_vector()\n",
    "#compares proportional differences before and after matching as well as p-value generated from Chi-Square Test\n",
    "#cc = m.compare_continuous(return_table=True) \n",
    "#print(m.matched_data)\n"
   ]
  },
  {
   "cell_type": "code",
   "execution_count": 6,
   "metadata": {
    "colab": {},
    "colab_type": "code",
    "id": "A9hHUhgEyqY3",
    "outputId": "9396d36a-f0c3-40be-a91e-c1ed98989c7c"
   },
   "outputs": [
    {
     "data": {
      "text/plain": [
       "Text(0.5, 1.0, 'PSM Bias Reduction')"
      ]
     },
     "execution_count": 6,
     "metadata": {},
     "output_type": "execute_result"
    },
    {
     "data": {
      "image/png": "[encoded data removed]",
      "text/plain": [
       "<Figure size 1120x800 with 1 Axes>"
      ]
     },
     "metadata": {
      "needs_background": "light"
     },
     "output_type": "display_data"
    }
   ],
   "source": [
    "# Prepare Data\n",
    "test_results = []\n",
    "test_results_after = []\n",
    "y = []\n",
    "for col in m.matched_data.columns:\n",
    "    if uf.is_continuous(col,m.X) and col not in m.exclude:\n",
    "        # organize data\n",
    "        trb, cob = m.test[col], m.control[col]\n",
    "        tra = m.matched_data[m.matched_data[m.yvar]==True][col]\n",
    "        coa = m.matched_data[m.matched_data[m.yvar]==False][col]\n",
    "        # before/after stats\n",
    "        #std_diff_med_before, std_diff_mean_before = uf.std_diff(trb, cob)\n",
    "       # std_diff_med_after, std_diff_mean_after = uf.std_diff(tra, coa)\n",
    "        std_diff_mean_before = (stat.mean(trb) - stat.mean(cob))/((math.sqrt(stat.variance(trb)+stat.variance(cob)))/2)\n",
    "        std_diff_mean_after = (stat.mean(tra) - stat.mean(coa))/((math.sqrt(stat.variance(tra)+stat.variance(coa)))/2)\n",
    "        test_results.append(std_diff_mean_before)\n",
    "        test_results_after.append(std_diff_mean_after)\n",
    "        y.append(col)\n",
    "    \n",
    "\n",
    "# plotting\n",
    "plt.figure(figsize=(14,10), dpi= 80)\n",
    "plt.hlines(y=y, xmin=0, xmax=[test_results], color=[m.control_color], alpha=0.4,linewidth=5)\n",
    "plt.hlines(y=y, xmin=0, xmax=[test_results_after], color=[m.test_color],alpha=0.4,linewidth=5)\n",
    "plt.scatter(test_results, y, s=120, color = m.control_color)\n",
    "plt.scatter(test_results_after, y, s=120, color = m.test_color)\n",
    "plt.axvline(x=0)\n",
    "plt.title('PSM Bias Reduction')"
   ]
  },
  {
   "cell_type": "markdown",
   "metadata": {},
   "source": [
    "## Fixed Effect Panel Regression"
   ]
  },
  {
   "cell_type": "code",
   "execution_count": 8,
   "metadata": {
    "colab": {},
    "colab_type": "code",
    "id": "NdMcCaQtyqY8"
   },
   "outputs": [],
   "source": [
    "#creates csv file for desired data\n",
    "matches_table = (m.matched_data.sort_values(\"match_id\"))\n",
    "matches_table['ID'] = list(range(1,matches_table.shape[0]+1))\n",
    "#matches_table.set_index('ID',inplace=True)\n",
    "matches_table.record_id = matches_table.record_id + 1\n",
    "matches_table.rename({'record_id':'Index'},axis=1,inplace=True)\n",
    "new_table = pd.merge(merge_data,matches_table,on='Index',how='right')\n",
    "new_table.drop(new_table.columns[new_table.columns.str.contains('unnamed',case = False)],axis = 1, inplace = True)\n",
    "#matches_table.to_csv(r\"/Users/Kira/Documents/ESRI_Research_Project/Matches.csv\",header=True,index=True)\n",
    "#new_table.to_csv(r\"C:/Users/Anidel/Dropbox (GaTech)/Albany Analysis/New_Table2.csv\",header=True,index=False)\n",
    "\n",
    "#merges matched data with panel data\n",
    "mergeDF = pd.merge(panelDF,new_table,on='Premise',how='right')\n",
    "mergeDF.drop(mergeDF.columns[mergeDF.columns.str.contains('unnamed',case = False)],axis = 1, inplace = True)\n",
    "mergeDF = mergeDF.drop_duplicates(subset=['ID', 'TimePeriod'])\n",
    "#mergeDF.to_csv(r\"C:/Users/Anidel/Dropbox (GaTech)/Albany Analysis/New_Table.csv\",header=True, index = False)\n"
   ]
  },
  {
   "cell_type": "code",
   "execution_count": 9,
   "metadata": {},
   "outputs": [
    {
     "name": "stdout",
     "output_type": "stream",
     "text": [
      "                          PanelOLS Estimation Summary                           \n",
      "================================================================================\n",
      "Dep. Variable:        NormConsumption   R-squared:                        0.0256\n",
      "Estimator:                   PanelOLS   R-squared (Between):             -0.0930\n",
      "No. Observations:              163405   R-squared (Within):               0.0256\n",
      "Date:                Tue, Jan 28 2020   R-squared (Overall):             -0.0720\n",
      "Time:                        08:18:54   Log-likelihood                -1.108e+05\n",
      "Cov. Estimator:             Clustered                                           \n",
      "                                        F-statistic:                      250.64\n",
      "Entities:                         921   P-value                           0.0000\n",
      "Avg Obs:                       177.42   Distribution:               F(17,162467)\n",
      "Min Obs:                       29.000                                           \n",
      "Max Obs:                       186.00   F-statistic (robust):             2.6452\n",
      "                                        P-value                           0.0002\n",
      "Time periods:                     186   Distribution:               F(17,162467)\n",
      "Avg Obs:                       878.52                                           \n",
      "Min Obs:                       834.00                                           \n",
      "Max Obs:                       914.00                                           \n",
      "                                                                                \n",
      "                             Parameter Estimates                              \n",
      "==============================================================================\n",
      "            Parameter  Std. Err.     T-stat    P-value    Lower CI    Upper CI\n",
      "------------------------------------------------------------------------------\n",
      "Post          -0.0031     0.0177    -0.1728     0.8628     -0.0377      0.0316\n",
      "Post_Group    -0.0517     0.0219    -2.3680     0.0179     -0.0946     -0.0089\n",
      "Year_2005      0.0081     0.0813     0.0999     0.9205     -0.1512      0.1674\n",
      "Year_2006      0.0228     0.0841     0.2709     0.7865     -0.1421      0.1877\n",
      "Year_2007      0.0211     0.0840     0.2512     0.8017     -0.1436      0.1858\n",
      "Year_2008      0.0078     0.0772     0.1004     0.9200     -0.1436      0.1591\n",
      "Year_2009     -0.0066     0.0762    -0.0862     0.9313     -0.1558      0.1427\n",
      "Year_2010      0.0942     0.0894     1.0536     0.2920     -0.0810      0.2693\n",
      "Year_2011      0.0303     0.0887     0.3411     0.7331     -0.1437      0.2042\n",
      "Year_2012     -0.0830     0.0747    -1.1119     0.2662     -0.2294      0.0633\n",
      "Year_2013     -0.1060     0.0696    -1.5245     0.1274     -0.2423      0.0303\n",
      "Year_2014     -0.0634     0.0761    -0.8324     0.4052     -0.2126      0.0859\n",
      "Year_2015     -0.1029     0.0791    -1.3019     0.1930     -0.2579      0.0520\n",
      "Year_2016     -0.1037     0.0786    -1.3197     0.1869     -0.2576      0.0503\n",
      "Year_2017     -0.1436     0.0717    -2.0030     0.0452     -0.2840     -0.0031\n",
      "Year_2018     -0.1217     0.0804    -1.5145     0.1299     -0.2793      0.0358\n",
      "Year_2019     -0.1526     0.0904    -1.6887     0.0913     -0.3297      0.0245\n",
      "==============================================================================\n",
      "\n",
      "F-test for Poolability: 85.857\n",
      "P-value: 0.0000\n",
      "Distribution: F(920,162467)\n",
      "\n",
      "Included effects: Entity\n"
     ]
    }
   ],
   "source": [
    "#Specifies individual entity and time variables\n",
    "mergeDF.set_index(['ID',\"TimePeriod\"],inplace=True)\n",
    "\n",
    "mergeDF['Post_Group'] = mergeDF['Post'] * mergeDF['Group']\n",
    "\n",
    "#PanelOLS model\n",
    "model = PanelOLS(mergeDF[dependent],mergeDF[independent],entity_effects=True,time_effects=False)\n",
    "fit = model.fit(cov_type = 'clustered', cluster_entity=True,cluster_time=True)\n",
    "\n",
    "print(fit)"
   ]
  }
 ],
 "metadata": {
  "colab": {
   "name": "ESRI_Jupyter.ipynb",
   "provenance": []
  },
  "kernelspec": {
   "display_name": "Python 3",
   "language": "python",
   "name": "python3"
  },
  "language_info": {
   "codemirror_mode": {
    "name": "ipython",
    "version": 3
   },
   "file_extension": ".py",
   "mimetype": "text/x-python",
   "name": "python",
   "nbconvert_exporter": "python",
   "pygments_lexer": "ipython3",
   "version": "3.7.1"
  }
 },
 "nbformat": 4,
 "nbformat_minor": 1
}
